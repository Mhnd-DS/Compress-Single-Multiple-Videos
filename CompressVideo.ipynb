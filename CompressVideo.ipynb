{
 "cells": [
  {
   "cell_type": "markdown",
   "id": "858574c2",
   "metadata": {},
   "source": [
    "Note\n",
    "- for Windows users they need to download  ffmeg"
   ]
  },
  {
   "cell_type": "code",
   "execution_count": 2,
   "id": "d4bf4a4a-a00b-4d69-bed3-4b4033e978e3",
   "metadata": {},
   "outputs": [],
   "source": [
    "def Vid_Info(src):\n",
    "    video_Extenstion = src.suffix\n",
    "\n",
    "    output_File = (Path(src).parent).joinpath(src.stem+user_convertType)\n",
    "    return video_Extenstion, output_File\n",
    "    "
   ]
  },
  {
   "cell_type": "code",
   "execution_count": 6,
   "id": "d427f30b",
   "metadata": {},
   "outputs": [],
   "source": [
    "def converting_videoType(src, video_Extenstion, user_convertType):\n",
    "           \n",
    "            \n",
    "            inputfile = (Path(src).parent).joinpath(src.stem+video_Extenstion)\n",
    "            \n",
    "            print('This video will be converted to ('+user_convertType+')' , inputfile)\n",
    "            \n",
    "            outputfile = (Path(src).parent).joinpath(src.stem+user_convertType)\n",
    "            \n",
    "            print('New Video will be at:- ',outputfile)\n",
    "            subprocess.call(['ffmpeg', '-i', inputfile, outputfile])\n",
    "            \n",
    "        "
   ]
  },
  {
   "cell_type": "markdown",
   "id": "9d7d96b7-bdc5-4c17-9551-302642499c7b",
   "metadata": {
    "tags": []
   },
   "source": [
    "## File Case"
   ]
  },
  {
   "cell_type": "code",
   "execution_count": 4,
   "id": "8efb2c67",
   "metadata": {},
   "outputs": [],
   "source": [
    "def Convert_OneVid(src, user_convertType):\n",
    "\n",
    "    video_Extenstion, output_File = Vid_Info(src)\n",
    "    \n",
    "    if(output_File.exists()):\n",
    "        raise Exception(\"File with the same desired format exists\")\n",
    " \n",
    "    converting_videoType(src,video_Extenstion, user_convertType)"
   ]
  },
  {
   "cell_type": "markdown",
   "id": "44ff1511-f86a-4cf9-9ab6-25aa60ea2f92",
   "metadata": {
    "tags": []
   },
   "source": [
    "# Folder Case"
   ]
  },
  {
   "cell_type": "code",
   "execution_count": 5,
   "id": "49b7f079-4dc8-4b2b-bd10-2b27838c53b1",
   "metadata": {},
   "outputs": [],
   "source": [
    "def Convert_MultipleVids(src, user_convertType):\n",
    "    for filename in src.iterdir():\n",
    "        print(filename)\n",
    "        src = filename\n",
    "        \n",
    "        video_Extenstion, output_File = Vid_Info(src)\n",
    " \n",
    "        \n",
    "        if(video_Extenstion == user_convertType):\n",
    "            continue\n",
    "        try:\n",
    "            Convert_OneVid(src, user_convertType)\n",
    "\n",
    "        except:\n",
    "            print('There is an existing file with the same requested format - This video has been skipped!! ('+src+')')\n",
    "            continue\n",
    "        "
   ]
  },
  {
   "cell_type": "markdown",
   "id": "e25f515b",
   "metadata": {},
   "source": [
    "# Main Function"
   ]
  },
  {
   "cell_type": "code",
   "execution_count": null,
   "id": "6ff86392-1d24-4c8b-b34d-28359f330d6d",
   "metadata": {},
   "outputs": [],
   "source": [
    "# Calling main() function\n",
    "\n",
    "import  sys\n",
    "import subprocess\n",
    "from pathlib import Path\n",
    "\n",
    "import warnings\n",
    "warnings.filterwarnings('error')\n",
    "\n",
    "\n",
    "if __name__ == '__main__':\n",
    "        U_input = input('Enter the path either a video path or \\n'\n",
    "                              'a directory path that contains multiple videos \\n'\n",
    "                              'Example of file path: /Downloads/myvideo.mp4 \\n'\n",
    "                              'Example of a directory: /Downloads/myvideos/\\n')\n",
    "    \n",
    "        src = Path(U_input)     \n",
    "        \n",
    "        if(src.exists() != True):\n",
    "            print('Path does NOT exists')\n",
    "            sys.exit()\n",
    "            \n",
    "        print( '______________________')\n",
    "        \n",
    "        U_input = input('Enter the type you want to convert by, Examples [avi - mov - mp4 - mkv - etc..]\\n')\n",
    "        user_convertType = '.'+U_input.lower()\n",
    "        \n",
    "        print( '______________________')\n",
    "        \n",
    "        \n",
    "        ##########\n",
    "        \n",
    "        src_Type = 'dir' if src.is_dir() else 'file'\n",
    "    \n",
    "        Convert_OneVid(src, user_convertType) if src_Type == 'file' else Convert_MultipleVids(src, user_convertType)"
   ]
  }
 ],
 "metadata": {
  "kernelspec": {
   "display_name": "Python 3 (ipykernel)",
   "language": "python",
   "name": "python3"
  },
  "language_info": {
   "codemirror_mode": {
    "name": "ipython",
    "version": 3
   },
   "file_extension": ".py",
   "mimetype": "text/x-python",
   "name": "python",
   "nbconvert_exporter": "python",
   "pygments_lexer": "ipython3",
   "version": "3.9.7"
  }
 },
 "nbformat": 4,
 "nbformat_minor": 5
}
